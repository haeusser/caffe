{
 "cells": [
  {
   "cell_type": "code",
   "execution_count": 1,
   "metadata": {
    "collapsed": false
   },
   "outputs": [],
   "source": [
    "# imports and stuff\n",
    "import os\n",
    "os.chdir('../..')  # we're in $CAFFE_ROOT/examples/swwae\n",
    "import sys\n",
    "sys.path.insert(0, './python')\n",
    "import caffe\n",
    "from google.protobuf import text_format\n",
    "import caffe.draw\n",
    "from caffe.proto import caffe_pb2\n",
    "from pylab import *\n",
    "%matplotlib inline"
   ]
  },
  {
   "cell_type": "code",
   "execution_count": 2,
   "metadata": {
    "collapsed": false
   },
   "outputs": [],
   "source": [
    "# set up solver\n",
    "caffe.set_device(0)\n",
    "caffe.set_mode_gpu()\n",
    "solver = caffe.SGDSolver('examples/swwae/solver.prototxt')"
   ]
  },
  {
   "cell_type": "code",
   "execution_count": 30,
   "metadata": {
    "collapsed": false
   },
   "outputs": [],
   "source": [
    "# shorthand for showing feature maps\n",
    "def print_map(blob_name, c=0, cmap='gray'):\n",
    "    figure(figsize=tuple(map(lambda x: max(x/12,0.5), solver.net.blobs[blob_name].data[0,c].shape)))\n",
    "    imshow(solver.net.blobs[blob_name].data[0,c], cmap)\n",
    "    title(blob_name + ' (c=' + str(c) +')')\n",
    "    matplotlib.pyplot.axis('off')"
   ]
  },
  {
   "cell_type": "code",
   "execution_count": 4,
   "metadata": {
    "collapsed": false,
    "scrolled": true
   },
   "outputs": [],
   "source": [
    "# forward pass\n",
    "solver.step(1)"
   ]
  },
  {
   "cell_type": "code",
   "execution_count": 35,
   "metadata": {
    "collapsed": false,
    "scrolled": false
   },
   "outputs": [
    {
     "data": {
      "image/png": "[encoded data removed]",
      "text/plain": [
       "<matplotlib.figure.Figure at 0x7e7f79186ad0>"
      ]
     },
     "metadata": {},
     "output_type": "display_data"
    },
    {
     "data": {
      "image/png": "[encoded data removed]",
      "text/plain": [
       "<matplotlib.figure.Figure at 0x7d7f736e2f50>"
      ]
     },
     "metadata": {},
     "output_type": "display_data"
    },
    {
     "data": {
      "image/png": "[encoded data removed]",
      "text/plain": [
       "<matplotlib.figure.Figure at 0x7e7f79121f50>"
      ]
     },
     "metadata": {},
     "output_type": "display_data"
    },
    {
     "data": {
      "image/png": "[encoded data removed]",
      "text/plain": [
       "<matplotlib.figure.Figure at 0x7e7f7839de10>"
      ]
     },
     "metadata": {},
     "output_type": "display_data"
    }
   ],
   "source": [
    "# look at pooling and unpooling activation maps\n",
    "c1=5\n",
    "c2=42\n",
    "\n",
    "matplotlib.pyplot.close('all')\n",
    "print_map('conv2', c2)\n",
    "print_map('pool2', c2)\n",
    "print_map('mask2', c2)\n",
    "print_map('unpool1', c2)"
   ]
  }
 ],
 "metadata": {
  "kernelspec": {
   "display_name": "Python 2",
   "language": "python",
   "name": "python2"
  },
  "language_info": {
   "codemirror_mode": {
    "name": "ipython",
    "version": 2
   },
   "file_extension": ".py",
   "mimetype": "text/x-python",
   "name": "python",
   "nbconvert_exporter": "python",
   "pygments_lexer": "ipython2",
   "version": "2.7.8"
  }
 },
 "nbformat": 4,
 "nbformat_minor": 0
}
